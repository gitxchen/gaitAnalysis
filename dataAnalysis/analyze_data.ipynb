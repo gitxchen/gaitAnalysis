{
 "cells": [
  {
   "cell_type": "code",
   "execution_count": 1,
   "metadata": {
    "collapsed": true
   },
   "outputs": [],
   "source": [
    "import os\n",
    "import os.path as path\n",
    "\n",
    "import numpy as np\n",
    "import pandas as pd\n",
    "import matplotlib.pyplot as plt\n",
    "\n",
    "from utils import anonymize_data, patients_data, get_markers, extract_data\n",
    "from utils import DATA_FOLDER\n",
    "\n",
    "SUGGESTED_MARKERS = {\"C7\", \"REP\", \"RUL\", \"RASIS\", \"RPSIS\", \"RCA\", \"RGT\",\n",
    "                     \"RLE\", \"RFM\", \"RA\", \"LEP\", \"LUL\", \"LASIS\",\n",
    "                     \"LPSIS\", \"LCA\", \"LGT\", \"LLE\", \"LFM\", \"LA\"}"
   ]
  },
  {
   "cell_type": "markdown",
   "metadata": {},
   "source": [
    "## Make data anonymous"
   ]
  },
  {
   "cell_type": "code",
   "execution_count": 3,
   "metadata": {
    "collapsed": false
   },
   "outputs": [],
   "source": [
    "# WARNING: this actually renames the original folders and files, make sure you have a backup of the data.\n",
    "# WARNING: this doesn't make data completely anonymous, as some fields in the c3ds still contains the patients info\n",
    "# This should at least avoid printing the patients name in notebooks output\n",
    "# and make them readable in the repository history.\n",
    "anonymize_data()"
   ]
  },
  {
   "cell_type": "markdown",
   "metadata": {},
   "source": [
    "## Detect and remove copies"
   ]
  },
  {
   "cell_type": "code",
   "execution_count": 22,
   "metadata": {
    "collapsed": false
   },
   "outputs": [
    {
     "name": "stdout",
     "output_type": "stream",
     "text": [
      "Reading class 0\n",
      "Copies detected: 0 10_1.c3d 0 10_2.c3d\n",
      "Copies detected: 0 10_3.c3d 0 10_4.c3d\n",
      "Reading class 1\n",
      "Reading class 2\n",
      "Reading class 3\n",
      "Error reading 114_8.c3d\n"
     ]
    }
   ],
   "source": [
    "delete_copies = False\n",
    "\n",
    "size_map = {}\n",
    "copies = []\n",
    "\n",
    "patients_iterator = patients_data()\n",
    "for reader, class_folder, patient_folder, patient_file in patients_iterator:\n",
    "    fullpath = path.join(DATA_FOLDER, class_folder, patient_folder, patient_file)\n",
    "    size = path.getsize(fullpath)\n",
    "    \n",
    "    curr = [class_folder, patient_folder, patient_file, reader.header]\n",
    "    \n",
    "    if size not in size_map:\n",
    "        size_map[size] = [curr]\n",
    "    else:\n",
    "        # Check that the actual c3d data is similar\n",
    "        for other in size_map[size]:\n",
    "            same_first = other[3].first_frame == curr[3].first_frame\n",
    "            same_last = other[3].last_frame == curr[3].last_frame\n",
    "            \n",
    "            # This is enough to determine the files are copies because\n",
    "            # the only two pairs occurrences had actually files named *.c3d and *_copy.c3d\n",
    "            if same_first and same_last:\n",
    "                print 'Copies detected:', other[0], other[2], curr[0], curr[2]\n",
    "                copies.append([other, curr])\n",
    "        \n",
    "        size_map[size].append(curr)\n",
    "\n",
    "# Delete copies if needed\n",
    "if delete_copies:\n",
    "    for x, y in copies:\n",
    "        fullpath = path.join(DATA_FOLDER, x[0], x[1], x[2])\n",
    "        os.remove(fullpath)"
   ]
  },
  {
   "cell_type": "markdown",
   "metadata": {},
   "source": [
    "## Evaluate suggested markers sample coverage"
   ]
  },
  {
   "cell_type": "code",
   "execution_count": 4,
   "metadata": {
    "collapsed": false
   },
   "outputs": [
    {
     "name": "stdout",
     "output_type": "stream",
     "text": [
      "Reading class 0\n",
      "Reading class 1\n",
      "Reading class 2\n",
      "Reading class 3\n",
      "Error reading 114_8.c3d\n",
      "Coverage: 1090 / 1142\n"
     ]
    }
   ],
   "source": [
    "diffs = {}\n",
    "\n",
    "for reader, _, _, _ in patients_data():\n",
    "\n",
    "    markers = get_markers(reader)\n",
    "    diff = len(SUGGESTED_MARKERS.difference(markers))\n",
    "\n",
    "    if diff not in diffs:\n",
    "        diffs[diff] = 1\n",
    "    else:\n",
    "        diffs[diff] += 1\n",
    "\n",
    "diffs = pd.Series(diffs)\n",
    "print 'Coverage: %d / %d' % (diffs[0], diffs.sum())"
   ]
  },
  {
   "cell_type": "markdown",
   "metadata": {},
   "source": [
    "## Find optimal markers subset (TODO)"
   ]
  },
  {
   "cell_type": "code",
   "execution_count": 5,
   "metadata": {
    "collapsed": false
   },
   "outputs": [
    {
     "name": "stdout",
     "output_type": "stream",
     "text": [
      "Reading class 0\n",
      "Reading class 1\n",
      "Reading class 2\n",
      "Reading class 3\n",
      "Error reading 114_8.c3d\n"
     ]
    }
   ],
   "source": [
    "rows = []\n",
    "\n",
    "for reader, _, _, _ in patients_data():\n",
    "\n",
    "    markers = get_markers(reader)\n",
    "    rows.append({marker: 1 for marker in markers})\n",
    "    \n",
    "df = pd.DataFrame(rows).fillna(0)"
   ]
  },
  {
   "cell_type": "code",
   "execution_count": 8,
   "metadata": {
    "collapsed": false
   },
   "outputs": [
    {
     "data": {
      "text/plain": [
       "1071"
      ]
     },
     "execution_count": 8,
     "metadata": {},
     "output_type": "execute_result"
    }
   ],
   "source": [
    "marker_freqs = df.sum()\n",
    "\n",
    "# Use coverage from suggested markers as threshold\n",
    "best_cols = marker_freqs[marker_freqs >= 1090].index\n",
    "n_best_cols = len(best_cols)\n",
    "\n",
    "filtered_df = df[best_cols]\n",
    "\n",
    "markers_counts = filtered_df.sum(axis=1)\n",
    "len(markers_counts[markers_counts >= len(best_cols)])\n",
    "\n",
    "filtered_df = filtered_df[markers_counts >= len(best_cols)]\n",
    "\n",
    "len(filtered_df)"
   ]
  },
  {
   "cell_type": "markdown",
   "metadata": {},
   "source": [
    "## Count bad frames, by marker"
   ]
  },
  {
   "cell_type": "code",
   "execution_count": 6,
   "metadata": {
    "collapsed": false
   },
   "outputs": [
    {
     "name": "stdout",
     "output_type": "stream",
     "text": [
      "Reading class 0\n",
      "Reading class 1\n",
      "Reading class 2\n",
      "Reading class 3\n",
      "Error reading 114_8.c3d\n"
     ]
    }
   ],
   "source": [
    "bad_markers_map = {}\n",
    "\n",
    "for reader, _, _, _ in patients_data():\n",
    "\n",
    "    markers = get_markers(reader)\n",
    "\n",
    "    for frame, points, analog in reader.read_frames():\n",
    "\n",
    "        bad_markers = np.where(points[:, 4] == -1)[0]\n",
    "        for marker in bad_markers:\n",
    "            if marker >= 255:\n",
    "                # unexpected marker\n",
    "                continue\n",
    "                \n",
    "            if markers[marker] not in bad_markers_map:\n",
    "                bad_markers_map[markers[marker]] = 1\n",
    "            else:\n",
    "                bad_markers_map[markers[marker]] += 1"
   ]
  },
  {
   "cell_type": "code",
   "execution_count": 9,
   "metadata": {
    "collapsed": false
   },
   "outputs": [
    {
     "name": "stdout",
     "output_type": "stream",
     "text": [
      "RFM       5.190853\n",
      "LASIS     9.657498\n",
      "RGT       7.941541\n",
      "RUL       7.911552\n",
      "LA        4.293700\n",
      "LFM       6.787852\n",
      "C7       10.283528\n",
      "REP       6.453562\n",
      "RASIS     9.879326\n",
      "RPSIS     7.370896\n",
      "LEP       4.616983\n",
      "RLE       7.050176\n",
      "LLE       6.441021\n",
      "LCA       6.411609\n",
      "LPSIS     7.480923\n",
      "LUL       5.828365\n",
      "RCA       6.260334\n",
      "LGT       7.590788\n",
      "RA        3.967169\n",
      "dtype: float64\n"
     ]
    }
   ],
   "source": [
    "bad_markers_counts = pd.Series(bad_markers_map)\n",
    "markers_counts = df.sum()\n",
    "\n",
    "freq_markers_counts = markers_counts[markers_counts > 1000]\n",
    "fred_bad_markers_counts = bad_markers_counts[freq_markers_counts.index].fillna(0)\n",
    "summary_bad_markers = (fred_bad_markers_counts / freq_markers_counts).sort_values()\n",
    "\n",
    "print summary_bad_markers[SUGGESTED_MARKERS]\n",
    "\n",
    "# Bad frames seem to be distributed equally, no reason to discard specific markers"
   ]
  },
  {
   "cell_type": "markdown",
   "metadata": {},
   "source": [
    "## Analyize bad markers distribution"
   ]
  },
  {
   "cell_type": "code",
   "execution_count": 12,
   "metadata": {
    "collapsed": false
   },
   "outputs": [
    {
     "name": "stdout",
     "output_type": "stream",
     "text": [
      "Reading class 0\n",
      "Reading class 1\n",
      "Reading class 2\n",
      "Reading class 3\n",
      "Error reading 114_8.c3d\n"
     ]
    }
   ],
   "source": [
    "from collections import *\n",
    "\n",
    "files_bad_markers = {}\n",
    "\n",
    "exit = False\n",
    "sugg_markers = list(SUGGESTED_MARKERS)\n",
    "\n",
    "for reader, c, p, f in patients_data():\n",
    "    markers = get_markers(reader)\n",
    "    \n",
    "    if (len(SUGGESTED_MARKERS.difference(markers))):\n",
    "        # Skip samples not covered by suggested markers\n",
    "        continue\n",
    "    \n",
    "    markers_indices = OrderedDict([(markers.index(marker), marker) for marker in sugg_markers])\n",
    "    \n",
    "    has_bad_data = False\n",
    "    bad_data = {}\n",
    "    \n",
    "    for frame, points, _ in reader.read_frames():\n",
    "        bad_markers = np.where(points[:, 4] == -1)[0]\n",
    "        bad_markers = [markers_indices[bad_marker] for bad_marker in bad_markers if bad_marker in markers_indices]\n",
    "        \n",
    "        for bad_marker in bad_markers:\n",
    "            has_bad_data = True\n",
    "            if bad_marker not in bad_data:\n",
    "                bad_data[bad_marker] = [frame]\n",
    "            else:\n",
    "                bad_data[bad_marker].append(frame)\n",
    "            \n",
    "    if has_bad_data:\n",
    "        files_bad_markers[f] = {\n",
    "            'start': reader.header.first_frame,\n",
    "            'end': reader.header.last_frame,\n",
    "            'data': bad_data\n",
    "        }\n"
   ]
  },
  {
   "cell_type": "code",
   "execution_count": 118,
   "metadata": {
    "collapsed": false
   },
   "outputs": [
    {
     "name": "stdout",
     "output_type": "stream",
     "text": [
      "Total number of streaks: 1435\n"
     ]
    },
    {
     "data": {
      "text/html": [
       "<div>\n",
       "<table border=\"1\" class=\"dataframe\">\n",
       "  <thead>\n",
       "    <tr style=\"text-align: right;\">\n",
       "      <th></th>\n",
       "      <th>file</th>\n",
       "      <th>start</th>\n",
       "      <th>end</th>\n",
       "      <th>marker</th>\n",
       "      <th>streak_start</th>\n",
       "      <th>streak_end</th>\n",
       "    </tr>\n",
       "  </thead>\n",
       "  <tbody>\n",
       "    <tr>\n",
       "      <th>0</th>\n",
       "      <td>108_5.c3d</td>\n",
       "      <td>293</td>\n",
       "      <td>859</td>\n",
       "      <td>C7</td>\n",
       "      <td>839</td>\n",
       "      <td>859</td>\n",
       "    </tr>\n",
       "    <tr>\n",
       "      <th>1</th>\n",
       "      <td>148_2.c3d</td>\n",
       "      <td>51</td>\n",
       "      <td>409</td>\n",
       "      <td>RGT</td>\n",
       "      <td>51</td>\n",
       "      <td>86</td>\n",
       "    </tr>\n",
       "    <tr>\n",
       "      <th>2</th>\n",
       "      <td>80_5.c3d</td>\n",
       "      <td>281</td>\n",
       "      <td>580</td>\n",
       "      <td>LGT</td>\n",
       "      <td>580</td>\n",
       "      <td>580</td>\n",
       "    </tr>\n",
       "    <tr>\n",
       "      <th>3</th>\n",
       "      <td>146_2.c3d</td>\n",
       "      <td>189</td>\n",
       "      <td>601</td>\n",
       "      <td>RLE</td>\n",
       "      <td>189</td>\n",
       "      <td>221</td>\n",
       "    </tr>\n",
       "    <tr>\n",
       "      <th>4</th>\n",
       "      <td>146_2.c3d</td>\n",
       "      <td>189</td>\n",
       "      <td>601</td>\n",
       "      <td>RUL</td>\n",
       "      <td>189</td>\n",
       "      <td>195</td>\n",
       "    </tr>\n",
       "  </tbody>\n",
       "</table>\n",
       "</div>"
      ],
      "text/plain": [
       "        file  start  end marker  streak_start  streak_end\n",
       "0  108_5.c3d    293  859     C7           839         859\n",
       "1  148_2.c3d     51  409    RGT            51          86\n",
       "2   80_5.c3d    281  580    LGT           580         580\n",
       "3  146_2.c3d    189  601    RLE           189         221\n",
       "4  146_2.c3d    189  601    RUL           189         195"
      ]
     },
     "execution_count": 118,
     "metadata": {},
     "output_type": "execute_result"
    }
   ],
   "source": [
    "# Build a dataframe from data for better manipulation and analysis\n",
    "\n",
    "rows = []\n",
    "for f, data in files_bad_markers.items():\n",
    "    \n",
    "    for marker, bad_frames in data['data'].items():\n",
    "        \n",
    "        # Retrieve for each file and bad marker, the streaks of bad markers.\n",
    "        # This is because initial analysis have shown that bad markers are usually in streaks.\n",
    "        # This is in contrast with the max_gap value in c3d headers, which is always 0\n",
    "        \n",
    "        streaks = [[bad_frames[0]]]\n",
    "        for frame in bad_frames[1:]:\n",
    "            \n",
    "            streak_found = False\n",
    "            for streak in streaks:\n",
    "                if streak[-1] == frame-1:\n",
    "                    streak.append(frame)\n",
    "                    streak_found = True\n",
    "                    break\n",
    "\n",
    "            if not streak_found:\n",
    "                streaks.append([frame])\n",
    "                    \n",
    "        for streak in streaks:\n",
    "            rows.append([\n",
    "                f,\n",
    "                data['start'],\n",
    "                data['end'],\n",
    "                marker,\n",
    "                streak[0],\n",
    "                streak[-1]\n",
    "            ])\n",
    "\n",
    "print 'Total number of streaks:', len(rows)\n",
    "            \n",
    "df_bad_frames = pd.DataFrame(rows, columns=['file', 'start', 'end', 'marker', 'streak_start', 'streak_end'])\n",
    "df_bad_frames.to_csv('bad_frames.csv') # Save for future analysis\n",
    "df_bad_frames.head(5)"
   ]
  },
  {
   "cell_type": "code",
   "execution_count": 7,
   "metadata": {
    "collapsed": false
   },
   "outputs": [],
   "source": [
    "# Read bad frames data from csv\n",
    "df_bad_frames = pd.read_csv('bad_frames.csv').drop('Unnamed: 0', 1)"
   ]
  },
  {
   "cell_type": "code",
   "execution_count": 8,
   "metadata": {
    "collapsed": false
   },
   "outputs": [
    {
     "data": {
      "text/html": [
       "<div>\n",
       "<table border=\"1\" class=\"dataframe\">\n",
       "  <thead>\n",
       "    <tr style=\"text-align: right;\">\n",
       "      <th></th>\n",
       "      <th>file</th>\n",
       "      <th>start</th>\n",
       "      <th>end</th>\n",
       "      <th>marker</th>\n",
       "      <th>streak_start</th>\n",
       "      <th>streak_end</th>\n",
       "      <th>sample_length</th>\n",
       "      <th>streak_length</th>\n",
       "      <th>streak_length_perc</th>\n",
       "      <th>streak_start_perc</th>\n",
       "      <th>streak_end_perc</th>\n",
       "    </tr>\n",
       "  </thead>\n",
       "  <tbody>\n",
       "    <tr>\n",
       "      <th>0</th>\n",
       "      <td>108_5.c3d</td>\n",
       "      <td>293</td>\n",
       "      <td>859</td>\n",
       "      <td>C7</td>\n",
       "      <td>839</td>\n",
       "      <td>859</td>\n",
       "      <td>567</td>\n",
       "      <td>21</td>\n",
       "      <td>0.037037</td>\n",
       "      <td>0.962963</td>\n",
       "      <td>1.000000</td>\n",
       "    </tr>\n",
       "    <tr>\n",
       "      <th>1</th>\n",
       "      <td>148_2.c3d</td>\n",
       "      <td>51</td>\n",
       "      <td>409</td>\n",
       "      <td>RGT</td>\n",
       "      <td>51</td>\n",
       "      <td>86</td>\n",
       "      <td>359</td>\n",
       "      <td>36</td>\n",
       "      <td>0.100279</td>\n",
       "      <td>0.000000</td>\n",
       "      <td>0.100279</td>\n",
       "    </tr>\n",
       "    <tr>\n",
       "      <th>2</th>\n",
       "      <td>80_5.c3d</td>\n",
       "      <td>281</td>\n",
       "      <td>580</td>\n",
       "      <td>LGT</td>\n",
       "      <td>580</td>\n",
       "      <td>580</td>\n",
       "      <td>300</td>\n",
       "      <td>1</td>\n",
       "      <td>0.003333</td>\n",
       "      <td>0.996667</td>\n",
       "      <td>1.000000</td>\n",
       "    </tr>\n",
       "    <tr>\n",
       "      <th>3</th>\n",
       "      <td>146_2.c3d</td>\n",
       "      <td>189</td>\n",
       "      <td>601</td>\n",
       "      <td>RLE</td>\n",
       "      <td>189</td>\n",
       "      <td>221</td>\n",
       "      <td>413</td>\n",
       "      <td>33</td>\n",
       "      <td>0.079903</td>\n",
       "      <td>0.000000</td>\n",
       "      <td>0.079903</td>\n",
       "    </tr>\n",
       "    <tr>\n",
       "      <th>4</th>\n",
       "      <td>146_2.c3d</td>\n",
       "      <td>189</td>\n",
       "      <td>601</td>\n",
       "      <td>RUL</td>\n",
       "      <td>189</td>\n",
       "      <td>195</td>\n",
       "      <td>413</td>\n",
       "      <td>7</td>\n",
       "      <td>0.016949</td>\n",
       "      <td>0.000000</td>\n",
       "      <td>0.016949</td>\n",
       "    </tr>\n",
       "    <tr>\n",
       "      <th>5</th>\n",
       "      <td>171_5.c3d</td>\n",
       "      <td>207</td>\n",
       "      <td>553</td>\n",
       "      <td>LUL</td>\n",
       "      <td>538</td>\n",
       "      <td>553</td>\n",
       "      <td>347</td>\n",
       "      <td>16</td>\n",
       "      <td>0.046110</td>\n",
       "      <td>0.953890</td>\n",
       "      <td>1.000000</td>\n",
       "    </tr>\n",
       "    <tr>\n",
       "      <th>6</th>\n",
       "      <td>48_2.c3d</td>\n",
       "      <td>258</td>\n",
       "      <td>700</td>\n",
       "      <td>LEP</td>\n",
       "      <td>700</td>\n",
       "      <td>700</td>\n",
       "      <td>443</td>\n",
       "      <td>1</td>\n",
       "      <td>0.002257</td>\n",
       "      <td>0.997743</td>\n",
       "      <td>1.000000</td>\n",
       "    </tr>\n",
       "    <tr>\n",
       "      <th>7</th>\n",
       "      <td>48_2.c3d</td>\n",
       "      <td>258</td>\n",
       "      <td>700</td>\n",
       "      <td>LLE</td>\n",
       "      <td>698</td>\n",
       "      <td>700</td>\n",
       "      <td>443</td>\n",
       "      <td>3</td>\n",
       "      <td>0.006772</td>\n",
       "      <td>0.993228</td>\n",
       "      <td>1.000000</td>\n",
       "    </tr>\n",
       "    <tr>\n",
       "      <th>8</th>\n",
       "      <td>48_2.c3d</td>\n",
       "      <td>258</td>\n",
       "      <td>700</td>\n",
       "      <td>LGT</td>\n",
       "      <td>694</td>\n",
       "      <td>700</td>\n",
       "      <td>443</td>\n",
       "      <td>7</td>\n",
       "      <td>0.015801</td>\n",
       "      <td>0.984199</td>\n",
       "      <td>1.000000</td>\n",
       "    </tr>\n",
       "    <tr>\n",
       "      <th>9</th>\n",
       "      <td>150_2.c3d</td>\n",
       "      <td>106</td>\n",
       "      <td>560</td>\n",
       "      <td>C7</td>\n",
       "      <td>106</td>\n",
       "      <td>116</td>\n",
       "      <td>455</td>\n",
       "      <td>11</td>\n",
       "      <td>0.024176</td>\n",
       "      <td>0.000000</td>\n",
       "      <td>0.024176</td>\n",
       "    </tr>\n",
       "    <tr>\n",
       "      <th>10</th>\n",
       "      <td>150_2.c3d</td>\n",
       "      <td>106</td>\n",
       "      <td>560</td>\n",
       "      <td>LLE</td>\n",
       "      <td>558</td>\n",
       "      <td>560</td>\n",
       "      <td>455</td>\n",
       "      <td>3</td>\n",
       "      <td>0.006593</td>\n",
       "      <td>0.993407</td>\n",
       "      <td>1.000000</td>\n",
       "    </tr>\n",
       "    <tr>\n",
       "      <th>11</th>\n",
       "      <td>150_2.c3d</td>\n",
       "      <td>106</td>\n",
       "      <td>560</td>\n",
       "      <td>LGT</td>\n",
       "      <td>106</td>\n",
       "      <td>112</td>\n",
       "      <td>455</td>\n",
       "      <td>7</td>\n",
       "      <td>0.015385</td>\n",
       "      <td>0.000000</td>\n",
       "      <td>0.015385</td>\n",
       "    </tr>\n",
       "    <tr>\n",
       "      <th>12</th>\n",
       "      <td>86_6.c3d</td>\n",
       "      <td>626</td>\n",
       "      <td>969</td>\n",
       "      <td>C7</td>\n",
       "      <td>967</td>\n",
       "      <td>969</td>\n",
       "      <td>344</td>\n",
       "      <td>3</td>\n",
       "      <td>0.008721</td>\n",
       "      <td>0.991279</td>\n",
       "      <td>1.000000</td>\n",
       "    </tr>\n",
       "    <tr>\n",
       "      <th>13</th>\n",
       "      <td>86_6.c3d</td>\n",
       "      <td>626</td>\n",
       "      <td>969</td>\n",
       "      <td>RUL</td>\n",
       "      <td>948</td>\n",
       "      <td>969</td>\n",
       "      <td>344</td>\n",
       "      <td>22</td>\n",
       "      <td>0.063953</td>\n",
       "      <td>0.936047</td>\n",
       "      <td>1.000000</td>\n",
       "    </tr>\n",
       "    <tr>\n",
       "      <th>14</th>\n",
       "      <td>157_9.c3d</td>\n",
       "      <td>1</td>\n",
       "      <td>796</td>\n",
       "      <td>RFM</td>\n",
       "      <td>699</td>\n",
       "      <td>796</td>\n",
       "      <td>796</td>\n",
       "      <td>98</td>\n",
       "      <td>0.123116</td>\n",
       "      <td>0.876884</td>\n",
       "      <td>1.000000</td>\n",
       "    </tr>\n",
       "  </tbody>\n",
       "</table>\n",
       "</div>"
      ],
      "text/plain": [
       "         file  start  end marker  streak_start  streak_end  sample_length  \\\n",
       "0   108_5.c3d    293  859     C7           839         859            567   \n",
       "1   148_2.c3d     51  409    RGT            51          86            359   \n",
       "2    80_5.c3d    281  580    LGT           580         580            300   \n",
       "3   146_2.c3d    189  601    RLE           189         221            413   \n",
       "4   146_2.c3d    189  601    RUL           189         195            413   \n",
       "5   171_5.c3d    207  553    LUL           538         553            347   \n",
       "6    48_2.c3d    258  700    LEP           700         700            443   \n",
       "7    48_2.c3d    258  700    LLE           698         700            443   \n",
       "8    48_2.c3d    258  700    LGT           694         700            443   \n",
       "9   150_2.c3d    106  560     C7           106         116            455   \n",
       "10  150_2.c3d    106  560    LLE           558         560            455   \n",
       "11  150_2.c3d    106  560    LGT           106         112            455   \n",
       "12   86_6.c3d    626  969     C7           967         969            344   \n",
       "13   86_6.c3d    626  969    RUL           948         969            344   \n",
       "14  157_9.c3d      1  796    RFM           699         796            796   \n",
       "\n",
       "    streak_length  streak_length_perc  streak_start_perc  streak_end_perc  \n",
       "0              21            0.037037           0.962963         1.000000  \n",
       "1              36            0.100279           0.000000         0.100279  \n",
       "2               1            0.003333           0.996667         1.000000  \n",
       "3              33            0.079903           0.000000         0.079903  \n",
       "4               7            0.016949           0.000000         0.016949  \n",
       "5              16            0.046110           0.953890         1.000000  \n",
       "6               1            0.002257           0.997743         1.000000  \n",
       "7               3            0.006772           0.993228         1.000000  \n",
       "8               7            0.015801           0.984199         1.000000  \n",
       "9              11            0.024176           0.000000         0.024176  \n",
       "10              3            0.006593           0.993407         1.000000  \n",
       "11              7            0.015385           0.000000         0.015385  \n",
       "12              3            0.008721           0.991279         1.000000  \n",
       "13             22            0.063953           0.936047         1.000000  \n",
       "14             98            0.123116           0.876884         1.000000  "
      ]
     },
     "execution_count": 8,
     "metadata": {},
     "output_type": "execute_result"
    }
   ],
   "source": [
    "# Add useful derived data\n",
    "df_bad_frames['sample_length'] = df_bad_frames.end - df_bad_frames.start + 1\n",
    "\n",
    "df_bad_frames['streak_length'] = df_bad_frames.streak_end - df_bad_frames.streak_start + 1\n",
    "df_bad_frames['streak_length_perc'] = df_bad_frames.streak_length / df_bad_frames.sample_length\n",
    "\n",
    "df_bad_frames['streak_start_perc'] = (df_bad_frames.streak_start - df_bad_frames.start) / df_bad_frames.sample_length\n",
    "df_bad_frames['streak_end_perc'] = (df_bad_frames.streak_end - df_bad_frames.start + 1) / df_bad_frames.sample_length\n",
    "\n",
    "df_bad_frames.head(15)"
   ]
  },
  {
   "cell_type": "code",
   "execution_count": 9,
   "metadata": {
    "collapsed": false
   },
   "outputs": [
    {
     "name": "stdout",
     "output_type": "stream",
     "text": [
      "Number of streaks starting from first frame: 554\n",
      "Number of streaks ending at last frame: 806\n",
      "Number of streaks in the middle: 75\n"
     ]
    }
   ],
   "source": [
    "# Analyze how many streaks start from the beginning or end at the end.\n",
    "# These cases are easily overcomed by simply cropping the frames\n",
    "\n",
    "starting_streaks = df_bad_frames['streak_start_perc'] == 0.0\n",
    "ending_streaks = df_bad_frames['streak_end_perc'] == 1.0\n",
    "\n",
    "n_starting_streaks = len(df_bad_frames[starting_streaks])\n",
    "n_ending_streaks = len(df_bad_frames[ending_streaks])\n",
    "\n",
    "print 'Number of streaks starting from first frame:', n_starting_streaks\n",
    "print 'Number of streaks ending at last frame:', n_ending_streaks\n",
    "print 'Number of streaks in the middle:' , len(df_bad_frames) - n_starting_streaks - n_ending_streaks\n",
    "\n",
    "# Looking good"
   ]
  },
  {
   "cell_type": "code",
   "execution_count": 10,
   "metadata": {
    "collapsed": false
   },
   "outputs": [
    {
     "data": {
      "text/html": [
       "<div>\n",
       "<table border=\"1\" class=\"dataframe\">\n",
       "  <thead>\n",
       "    <tr style=\"text-align: right;\">\n",
       "      <th></th>\n",
       "      <th>start</th>\n",
       "      <th>end</th>\n",
       "      <th>streak_start</th>\n",
       "      <th>streak_end</th>\n",
       "      <th>sample_length</th>\n",
       "      <th>streak_length</th>\n",
       "      <th>streak_length_perc</th>\n",
       "      <th>streak_start_perc</th>\n",
       "      <th>streak_end_perc</th>\n",
       "    </tr>\n",
       "  </thead>\n",
       "  <tbody>\n",
       "    <tr>\n",
       "      <th>count</th>\n",
       "      <td>1435.000000</td>\n",
       "      <td>1435.000000</td>\n",
       "      <td>1435.000000</td>\n",
       "      <td>1435.000000</td>\n",
       "      <td>1435.000000</td>\n",
       "      <td>1435.000000</td>\n",
       "      <td>1435.000000</td>\n",
       "      <td>1435.000000</td>\n",
       "      <td>1435.000000</td>\n",
       "    </tr>\n",
       "    <tr>\n",
       "      <th>mean</th>\n",
       "      <td>104.644599</td>\n",
       "      <td>852.065505</td>\n",
       "      <td>482.048084</td>\n",
       "      <td>575.222300</td>\n",
       "      <td>748.420906</td>\n",
       "      <td>94.174216</td>\n",
       "      <td>0.111659</td>\n",
       "      <td>0.529885</td>\n",
       "      <td>0.641544</td>\n",
       "    </tr>\n",
       "    <tr>\n",
       "      <th>std</th>\n",
       "      <td>169.019209</td>\n",
       "      <td>385.019672</td>\n",
       "      <td>435.260176</td>\n",
       "      <td>435.693709</td>\n",
       "      <td>365.086012</td>\n",
       "      <td>122.380037</td>\n",
       "      <td>0.120384</td>\n",
       "      <td>0.443873</td>\n",
       "      <td>0.430340</td>\n",
       "    </tr>\n",
       "    <tr>\n",
       "      <th>min</th>\n",
       "      <td>1.000000</td>\n",
       "      <td>287.000000</td>\n",
       "      <td>1.000000</td>\n",
       "      <td>1.000000</td>\n",
       "      <td>217.000000</td>\n",
       "      <td>1.000000</td>\n",
       "      <td>0.000582</td>\n",
       "      <td>0.000000</td>\n",
       "      <td>0.000582</td>\n",
       "    </tr>\n",
       "    <tr>\n",
       "      <th>25%</th>\n",
       "      <td>1.000000</td>\n",
       "      <td>641.000000</td>\n",
       "      <td>1.000000</td>\n",
       "      <td>196.000000</td>\n",
       "      <td>495.000000</td>\n",
       "      <td>6.000000</td>\n",
       "      <td>0.010929</td>\n",
       "      <td>0.000000</td>\n",
       "      <td>0.151198</td>\n",
       "    </tr>\n",
       "    <tr>\n",
       "      <th>50%</th>\n",
       "      <td>1.000000</td>\n",
       "      <td>753.000000</td>\n",
       "      <td>543.000000</td>\n",
       "      <td>610.000000</td>\n",
       "      <td>720.000000</td>\n",
       "      <td>51.000000</td>\n",
       "      <td>0.074586</td>\n",
       "      <td>0.771399</td>\n",
       "      <td>1.000000</td>\n",
       "    </tr>\n",
       "    <tr>\n",
       "      <th>75%</th>\n",
       "      <td>179.000000</td>\n",
       "      <td>958.000000</td>\n",
       "      <td>729.000000</td>\n",
       "      <td>783.000000</td>\n",
       "      <td>951.000000</td>\n",
       "      <td>137.500000</td>\n",
       "      <td>0.171842</td>\n",
       "      <td>0.956495</td>\n",
       "      <td>1.000000</td>\n",
       "    </tr>\n",
       "    <tr>\n",
       "      <th>max</th>\n",
       "      <td>1657.000000</td>\n",
       "      <td>3881.000000</td>\n",
       "      <td>3877.000000</td>\n",
       "      <td>3881.000000</td>\n",
       "      <td>3881.000000</td>\n",
       "      <td>1431.000000</td>\n",
       "      <td>0.833234</td>\n",
       "      <td>0.999271</td>\n",
       "      <td>1.000000</td>\n",
       "    </tr>\n",
       "  </tbody>\n",
       "</table>\n",
       "</div>"
      ],
      "text/plain": [
       "             start          end  streak_start   streak_end  sample_length  \\\n",
       "count  1435.000000  1435.000000   1435.000000  1435.000000    1435.000000   \n",
       "mean    104.644599   852.065505    482.048084   575.222300     748.420906   \n",
       "std     169.019209   385.019672    435.260176   435.693709     365.086012   \n",
       "min       1.000000   287.000000      1.000000     1.000000     217.000000   \n",
       "25%       1.000000   641.000000      1.000000   196.000000     495.000000   \n",
       "50%       1.000000   753.000000    543.000000   610.000000     720.000000   \n",
       "75%     179.000000   958.000000    729.000000   783.000000     951.000000   \n",
       "max    1657.000000  3881.000000   3877.000000  3881.000000    3881.000000   \n",
       "\n",
       "       streak_length  streak_length_perc  streak_start_perc  streak_end_perc  \n",
       "count    1435.000000         1435.000000        1435.000000      1435.000000  \n",
       "mean       94.174216            0.111659           0.529885         0.641544  \n",
       "std       122.380037            0.120384           0.443873         0.430340  \n",
       "min         1.000000            0.000582           0.000000         0.000582  \n",
       "25%         6.000000            0.010929           0.000000         0.151198  \n",
       "50%        51.000000            0.074586           0.771399         1.000000  \n",
       "75%       137.500000            0.171842           0.956495         1.000000  \n",
       "max      1431.000000            0.833234           0.999271         1.000000  "
      ]
     },
     "execution_count": 10,
     "metadata": {},
     "output_type": "execute_result"
    }
   ],
   "source": [
    "# Max streak_length_perc is scary, but luckily the 75th percentile is much lower\n",
    "df_bad_frames.describe()"
   ]
  },
  {
   "cell_type": "code",
   "execution_count": 85,
   "metadata": {
    "collapsed": false
   },
   "outputs": [
    {
     "data": {
      "text/html": [
       "<div>\n",
       "<table border=\"1\" class=\"dataframe\">\n",
       "  <thead>\n",
       "    <tr style=\"text-align: right;\">\n",
       "      <th></th>\n",
       "      <th>file</th>\n",
       "      <th>start</th>\n",
       "      <th>end</th>\n",
       "      <th>marker</th>\n",
       "      <th>streak_start</th>\n",
       "      <th>streak_end</th>\n",
       "      <th>sample_length</th>\n",
       "      <th>streak_length</th>\n",
       "      <th>streak_length_perc</th>\n",
       "      <th>streak_start_perc</th>\n",
       "      <th>streak_end_perc</th>\n",
       "    </tr>\n",
       "  </thead>\n",
       "  <tbody>\n",
       "    <tr>\n",
       "      <th>104</th>\n",
       "      <td>52_4.c3d</td>\n",
       "      <td>754</td>\n",
       "      <td>1071</td>\n",
       "      <td>LGT</td>\n",
       "      <td>870</td>\n",
       "      <td>1071</td>\n",
       "      <td>318</td>\n",
       "      <td>202</td>\n",
       "      <td>0.635220</td>\n",
       "      <td>0.36478</td>\n",
       "      <td>1.000000</td>\n",
       "    </tr>\n",
       "    <tr>\n",
       "      <th>981</th>\n",
       "      <td>165_5.c3d</td>\n",
       "      <td>339</td>\n",
       "      <td>804</td>\n",
       "      <td>LGT</td>\n",
       "      <td>339</td>\n",
       "      <td>575</td>\n",
       "      <td>466</td>\n",
       "      <td>237</td>\n",
       "      <td>0.508584</td>\n",
       "      <td>0.00000</td>\n",
       "      <td>0.508584</td>\n",
       "    </tr>\n",
       "    <tr>\n",
       "      <th>992</th>\n",
       "      <td>58_5.c3d</td>\n",
       "      <td>211</td>\n",
       "      <td>606</td>\n",
       "      <td>RGT</td>\n",
       "      <td>211</td>\n",
       "      <td>521</td>\n",
       "      <td>396</td>\n",
       "      <td>311</td>\n",
       "      <td>0.785354</td>\n",
       "      <td>0.00000</td>\n",
       "      <td>0.785354</td>\n",
       "    </tr>\n",
       "  </tbody>\n",
       "</table>\n",
       "</div>"
      ],
      "text/plain": [
       "          file  start   end marker  streak_start  streak_end  sample_length  \\\n",
       "104   52_4.c3d    754  1071    LGT           870        1071            318   \n",
       "981  165_5.c3d    339   804    LGT           339         575            466   \n",
       "992   58_5.c3d    211   606    RGT           211         521            396   \n",
       "\n",
       "     streak_length  streak_length_perc  streak_start_perc  streak_end_perc  \n",
       "104            202            0.635220            0.36478         1.000000  \n",
       "981            237            0.508584            0.00000         0.508584  \n",
       "992            311            0.785354            0.00000         0.785354  "
      ]
     },
     "execution_count": 85,
     "metadata": {},
     "output_type": "execute_result"
    }
   ],
   "source": [
    "# These cannot be used, they're basically missing the markers\n",
    "df_bad_frames[(df_bad_frames.streak_length_perc > 0.5) & (df_bad_frames.sample_length < 500)]"
   ]
  },
  {
   "cell_type": "code",
   "execution_count": 108,
   "metadata": {
    "collapsed": false
   },
   "outputs": [
    {
     "name": "stdout",
     "output_type": "stream",
     "text": [
      "There are 34 isolated frames in the middle.\n"
     ]
    },
    {
     "data": {
      "text/plain": [
       "2      10\n",
       "3       4\n",
       "4       6\n",
       "5       2\n",
       "6       1\n",
       "7       1\n",
       "11      1\n",
       "12      4\n",
       "13      2\n",
       "14      2\n",
       "21      1\n",
       "33      1\n",
       "35      1\n",
       "36      1\n",
       "37      1\n",
       "43      1\n",
       "78      1\n",
       "131     1\n",
       "Name: streak_length, dtype: int64"
      ]
     },
     "execution_count": 108,
     "metadata": {},
     "output_type": "execute_result"
    }
   ],
   "source": [
    "# Let's have a look at the middle streaks\n",
    "middle_streaks = ~(starting_streaks | ending_streaks)\n",
    "isolated_frames = df_bad_frames.streak_length == 1\n",
    "\n",
    "# These can be easily interpolated\n",
    "print 'There are', len(df_bad_frames[middle_streaks & isolated_frames]), 'isolated frames in the middle.'\n",
    "\n",
    "df_bad_frames[middle_streaks & ~isolated_frames].streak_length.value_counts().sort_index()"
   ]
  },
  {
   "cell_type": "code",
   "execution_count": 11,
   "metadata": {
    "collapsed": false
   },
   "outputs": [
    {
     "data": {
      "text/plain": [
       "127"
      ]
     },
     "execution_count": 11,
     "metadata": {},
     "output_type": "execute_result"
    }
   ],
   "source": [
    "n_streaks = df_bad_frames.file.value_counts()\n",
    "len(n_streaks[n_streaks > 1])\n",
    "\n"
   ]
  },
  {
   "cell_type": "markdown",
   "metadata": {},
   "source": [
    "## Analyze graphs (TODO)"
   ]
  },
  {
   "cell_type": "code",
   "execution_count": 10,
   "metadata": {
    "collapsed": false
   },
   "outputs": [
    {
     "name": "stdout",
     "output_type": "stream",
     "text": [
      "Reading class 0\n",
      "Extracted 1807240 rows\n"
     ]
    }
   ],
   "source": [
    "data = extract_data('0', '1')\n",
    "print 'Extracted', len(data), 'rows'\n",
    "df = pd.DataFrame(data, columns=['class', 'patient', 'file', 'frame', 'marker', 'x', 'y', 'z', 'bad'])"
   ]
  },
  {
   "cell_type": "code",
   "execution_count": 11,
   "metadata": {
    "collapsed": false
   },
   "outputs": [
    {
     "data": {
      "image/png": "[encoded data removed]",
      "text/plain": [
       "<matplotlib.figure.Figure at 0x7fae1c48bd50>"
      ]
     },
     "metadata": {},
     "output_type": "display_data"
    }
   ],
   "source": [
    "df[(df.marker == 'LFEO') & (df.file == '1_1.c3d')]\\\n",
    "    .sort_values('frame').plot('frame', ['x', 'y', 'z'], subplots=True, sharey=False)\n",
    "plt.show()"
   ]
  },
  {
   "cell_type": "markdown",
   "metadata": {},
   "source": [
    "## Header fields check"
   ]
  },
  {
   "cell_type": "code",
   "execution_count": 64,
   "metadata": {
    "collapsed": false
   },
   "outputs": [
    {
     "name": "stdout",
     "output_type": "stream",
     "text": [
      "Reading class 0\n",
      "  parameter_block: 2\n",
      "      point_count: 162\n",
      "     analog_count: 300\n",
      "      first_frame: 651\n",
      "       last_frame: 2426\n",
      "          max_gap: 0\n",
      "     scale_factor: -0.00999999977648\n",
      "       data_block: 73\n",
      " analog_per_frame: 10\n",
      "       frame_rate: 100.0\n",
      "long_event_labels: 0\n",
      "      label_block: 0\n"
     ]
    }
   ],
   "source": [
    "# This is needed only to show header fields\n",
    "patients_iterator = patients_data()\n",
    "for reader, class_folder, patient_folder, patient_file in patients_iterator:    \n",
    "    print reader.header\n",
    "    break"
   ]
  },
  {
   "cell_type": "code",
   "execution_count": 66,
   "metadata": {
    "collapsed": false
   },
   "outputs": [
    {
     "name": "stdout",
     "output_type": "stream",
     "text": [
      "Reading class 0\n",
      "Reading class 1\n",
      "Reading class 2\n",
      "Reading class 3\n",
      "Error reading 114_8.c3d\n"
     ]
    },
    {
     "data": {
      "text/plain": [
       "0    1142\n",
       "dtype: int64"
      ]
     },
     "execution_count": 66,
     "metadata": {},
     "output_type": "execute_result"
    }
   ],
   "source": [
    "max_gaps = {}\n",
    "\n",
    "patients_iterator = patients_data()\n",
    "for reader, class_folder, patient_folder, patient_file in patients_iterator:\n",
    "    markers = get_markers(reader)\n",
    "    \n",
    "    if reader.header.max_gap not in max_gaps:\n",
    "        max_gaps[reader.header.max_gap] = 1\n",
    "    else:\n",
    "        max_gaps[reader.header.max_gap] += 1\n",
    "        \n",
    "max_gaps = pd.Series(max_gaps)\n",
    "max_gaps\n",
    "\n",
    "# There are only zeroes.\n",
    "# Either the frame are never interpolated, or this information is missing from the original c3ds"
   ]
  },
  {
   "cell_type": "markdown",
   "metadata": {},
   "source": [
    "## Position boundaries"
   ]
  },
  {
   "cell_type": "code",
   "execution_count": 13,
   "metadata": {
    "collapsed": false
   },
   "outputs": [
    {
     "name": "stdout",
     "output_type": "stream",
     "text": [
      "Reading class 0\n",
      "Reading class 1\n",
      "Reading class 2\n",
      "Reading class 3\n",
      "Error reading 114_8.c3d\n"
     ]
    }
   ],
   "source": [
    "rows = []\n",
    "\n",
    "patients_iterator = patients_data()\n",
    "for reader, class_folder, patient_folder, patient_file in patients_iterator:\n",
    "    markers = get_markers(reader)\n",
    "    \n",
    "    # (marker, x|y|z, min|max)\n",
    "    bounds = np.zeros((len(markers), 3, 2))\n",
    "    bounds[:, :, 0] = 10e10\n",
    "    bounds[:, :, 1] = -10e10\n",
    "        \n",
    "    for frame, points, analog in reader.read_frames():\n",
    "        \n",
    "        # The 255 limit is to prevent unexpected markers in 59_1.c3d and 59_2.c3d\n",
    "        bounds[:, :, 0] = np.fmin(bounds[:, :, 0], points[:255, 0:3])\n",
    "        bounds[:, :, 1] = np.fmax(bounds[:, :, 1], points[:255, 0:3])\n",
    "\n",
    "    all_min = np.min(bounds[:, :, 0], axis=0)\n",
    "    all_max = np.max(bounds[:, :, 1], axis=0)\n",
    "    \n",
    "    row = [\n",
    "        class_folder,\n",
    "        patient_folder,\n",
    "        patient_file,\n",
    "        reader.header.scale_factor,\n",
    "        all_min[0],\n",
    "        all_max[0],\n",
    "        all_min[1],\n",
    "        all_max[1],\n",
    "        all_min[2],\n",
    "        all_max[2]\n",
    "    ]\n",
    "    \n",
    "    # Add bounds for specific marker C7 (vertebra close to neck).\n",
    "    # Probably more stable since there are some utility markers placed\n",
    "    # really far from the skeleton\n",
    "    # TODO: try with pelvis marker, should be even better\n",
    "    try:\n",
    "        c7_index = markers.index('C7')\n",
    "        c7_min = bounds[c7_index, :, 0]\n",
    "        c7_max = bounds[c7_index, :, 1]\n",
    "        \n",
    "        row.extend([\n",
    "            c7_min[0],\n",
    "            c7_max[0],\n",
    "            c7_min[1],\n",
    "            c7_max[1],\n",
    "            c7_min[2],\n",
    "            c7_max[2]\n",
    "        ])\n",
    "    except:\n",
    "        pass\n",
    "    \n",
    "    rows.append(row)\n"
   ]
  },
  {
   "cell_type": "code",
   "execution_count": 14,
   "metadata": {
    "collapsed": false
   },
   "outputs": [
    {
     "data": {
      "text/html": [
       "<div>\n",
       "<table border=\"1\" class=\"dataframe\">\n",
       "  <thead>\n",
       "    <tr style=\"text-align: right;\">\n",
       "      <th></th>\n",
       "      <th>class</th>\n",
       "      <th>patient</th>\n",
       "      <th>file</th>\n",
       "      <th>scale_factor</th>\n",
       "      <th>min_x</th>\n",
       "      <th>max_x</th>\n",
       "      <th>min_y</th>\n",
       "      <th>max_y</th>\n",
       "      <th>min_z</th>\n",
       "      <th>max_z</th>\n",
       "      <th>c7_min_x</th>\n",
       "      <th>c7_max_x</th>\n",
       "      <th>c7_min_y</th>\n",
       "      <th>c7_max_y</th>\n",
       "      <th>c7_min_z</th>\n",
       "      <th>c7_max_z</th>\n",
       "    </tr>\n",
       "  </thead>\n",
       "  <tbody>\n",
       "    <tr>\n",
       "      <th>0</th>\n",
       "      <td>0</td>\n",
       "      <td>1</td>\n",
       "      <td>1_1.c3d</td>\n",
       "      <td>-0.01</td>\n",
       "      <td>-297.186127</td>\n",
       "      <td>1644.620728</td>\n",
       "      <td>-695.424316</td>\n",
       "      <td>2152.603516</td>\n",
       "      <td>-184.325119</td>\n",
       "      <td>1233.257568</td>\n",
       "      <td>545.400940</td>\n",
       "      <td>789.628662</td>\n",
       "      <td>-189.193054</td>\n",
       "      <td>1356.158203</td>\n",
       "      <td>1125.565918</td>\n",
       "      <td>1150.222778</td>\n",
       "    </tr>\n",
       "    <tr>\n",
       "      <th>1</th>\n",
       "      <td>0</td>\n",
       "      <td>1</td>\n",
       "      <td>1_2.c3d</td>\n",
       "      <td>-0.01</td>\n",
       "      <td>-419.700409</td>\n",
       "      <td>1890.699829</td>\n",
       "      <td>-294.114838</td>\n",
       "      <td>1624.078003</td>\n",
       "      <td>-191.920547</td>\n",
       "      <td>1215.907837</td>\n",
       "      <td>331.724274</td>\n",
       "      <td>1332.638306</td>\n",
       "      <td>567.448120</td>\n",
       "      <td>790.950439</td>\n",
       "      <td>1117.005737</td>\n",
       "      <td>1152.583252</td>\n",
       "    </tr>\n",
       "    <tr>\n",
       "      <th>2</th>\n",
       "      <td>0</td>\n",
       "      <td>1</td>\n",
       "      <td>1_3.c3d</td>\n",
       "      <td>-0.01</td>\n",
       "      <td>-1336.119385</td>\n",
       "      <td>684.095520</td>\n",
       "      <td>-70.693817</td>\n",
       "      <td>2777.613770</td>\n",
       "      <td>-186.695572</td>\n",
       "      <td>1206.898682</td>\n",
       "      <td>-800.916626</td>\n",
       "      <td>-103.654526</td>\n",
       "      <td>2023.557617</td>\n",
       "      <td>2139.260254</td>\n",
       "      <td>1107.343018</td>\n",
       "      <td>1143.438721</td>\n",
       "    </tr>\n",
       "    <tr>\n",
       "      <th>3</th>\n",
       "      <td>0</td>\n",
       "      <td>1</td>\n",
       "      <td>1_4.c3d</td>\n",
       "      <td>-0.01</td>\n",
       "      <td>-73.822647</td>\n",
       "      <td>2413.872559</td>\n",
       "      <td>-72.171555</td>\n",
       "      <td>2494.879150</td>\n",
       "      <td>-202.915039</td>\n",
       "      <td>1207.077881</td>\n",
       "      <td>574.123596</td>\n",
       "      <td>1603.798584</td>\n",
       "      <td>2127.331055</td>\n",
       "      <td>2231.828857</td>\n",
       "      <td>1104.286865</td>\n",
       "      <td>1136.949707</td>\n",
       "    </tr>\n",
       "    <tr>\n",
       "      <th>4</th>\n",
       "      <td>0</td>\n",
       "      <td>1</td>\n",
       "      <td>1_5.c3d</td>\n",
       "      <td>-0.01</td>\n",
       "      <td>-594.534241</td>\n",
       "      <td>1515.198975</td>\n",
       "      <td>-299.986816</td>\n",
       "      <td>2062.800293</td>\n",
       "      <td>-1893.749146</td>\n",
       "      <td>1848.347778</td>\n",
       "      <td>142.435638</td>\n",
       "      <td>1088.680664</td>\n",
       "      <td>1078.080444</td>\n",
       "      <td>1232.630493</td>\n",
       "      <td>1051.821411</td>\n",
       "      <td>1096.799805</td>\n",
       "    </tr>\n",
       "  </tbody>\n",
       "</table>\n",
       "</div>"
      ],
      "text/plain": [
       "  class  patient     file  scale_factor        min_x        max_x       min_y  \\\n",
       "0     0        1  1_1.c3d         -0.01  -297.186127  1644.620728 -695.424316   \n",
       "1     0        1  1_2.c3d         -0.01  -419.700409  1890.699829 -294.114838   \n",
       "2     0        1  1_3.c3d         -0.01 -1336.119385   684.095520  -70.693817   \n",
       "3     0        1  1_4.c3d         -0.01   -73.822647  2413.872559  -72.171555   \n",
       "4     0        1  1_5.c3d         -0.01  -594.534241  1515.198975 -299.986816   \n",
       "\n",
       "         max_y        min_z        max_z    c7_min_x     c7_max_x  \\\n",
       "0  2152.603516  -184.325119  1233.257568  545.400940   789.628662   \n",
       "1  1624.078003  -191.920547  1215.907837  331.724274  1332.638306   \n",
       "2  2777.613770  -186.695572  1206.898682 -800.916626  -103.654526   \n",
       "3  2494.879150  -202.915039  1207.077881  574.123596  1603.798584   \n",
       "4  2062.800293 -1893.749146  1848.347778  142.435638  1088.680664   \n",
       "\n",
       "      c7_min_y     c7_max_y     c7_min_z     c7_max_z  \n",
       "0  -189.193054  1356.158203  1125.565918  1150.222778  \n",
       "1   567.448120   790.950439  1117.005737  1152.583252  \n",
       "2  2023.557617  2139.260254  1107.343018  1143.438721  \n",
       "3  2127.331055  2231.828857  1104.286865  1136.949707  \n",
       "4  1078.080444  1232.630493  1051.821411  1096.799805  "
      ]
     },
     "execution_count": 14,
     "metadata": {},
     "output_type": "execute_result"
    }
   ],
   "source": [
    "# Generate DataFrame with summary data\n",
    "df_bounds = pd.DataFrame(rows, columns=[\n",
    "    'class', 'patient', 'file', 'scale_factor',\n",
    "    'min_x', 'max_x',\n",
    "    'min_y', 'max_y',\n",
    "    'min_z', 'max_z',\n",
    "    'c7_min_x', 'c7_max_x',\n",
    "    'c7_min_y', 'c7_max_y',\n",
    "    'c7_min_z', 'c7_max_z',\n",
    "])\n",
    "\n",
    "df_bounds.patient = pd.to_numeric(df_bounds.patient)\n",
    "df_bounds.head(5)"
   ]
  },
  {
   "cell_type": "code",
   "execution_count": 15,
   "metadata": {
    "collapsed": false
   },
   "outputs": [
    {
     "name": "stdout",
     "output_type": "stream",
     "text": [
      "Times the scale_factor is positive: 0\n",
      "This means that all 3D data is already stored as floating-point.\n"
     ]
    },
    {
     "data": {
      "text/plain": [
       "-0.01    930\n",
       "-0.10    212\n",
       "Name: scale_factor, dtype: int64"
      ]
     },
     "execution_count": 15,
     "metadata": {},
     "output_type": "execute_result"
    }
   ],
   "source": [
    "# The sign in scale_factor indicates that the 3D data is stored either as signed integer (positive)\n",
    "# or floating-point (negative). Either way, the scale_factor is always floating-point.\n",
    "\n",
    "positive_scale_factors = len(df_bounds[df_bounds.scale_factor > 0])\n",
    "print 'Times the scale_factor is positive:', positive_scale_factors\n",
    "\n",
    "if positive_scale_factors == 0:\n",
    "    print 'This means that all 3D data is already stored as floating-point.'\n",
    "    \n",
    "# Only two possible values, both negatives\n",
    "df_bounds.scale_factor.value_counts()"
   ]
  },
  {
   "cell_type": "code",
   "execution_count": 16,
   "metadata": {
    "collapsed": false
   },
   "outputs": [
    {
     "data": {
      "text/html": [
       "<div>\n",
       "<table border=\"1\" class=\"dataframe\">\n",
       "  <thead>\n",
       "    <tr style=\"text-align: right;\">\n",
       "      <th></th>\n",
       "      <th>class</th>\n",
       "      <th>patient</th>\n",
       "      <th>file</th>\n",
       "      <th>scale_factor</th>\n",
       "      <th>min_x</th>\n",
       "      <th>max_x</th>\n",
       "      <th>min_y</th>\n",
       "      <th>max_y</th>\n",
       "      <th>min_z</th>\n",
       "      <th>max_z</th>\n",
       "      <th>c7_min_x</th>\n",
       "      <th>c7_max_x</th>\n",
       "      <th>c7_min_y</th>\n",
       "      <th>c7_max_y</th>\n",
       "      <th>c7_min_z</th>\n",
       "      <th>c7_max_z</th>\n",
       "    </tr>\n",
       "  </thead>\n",
       "  <tbody>\n",
       "    <tr>\n",
       "      <th>0</th>\n",
       "      <td>0</td>\n",
       "      <td>1</td>\n",
       "      <td>1_1.c3d</td>\n",
       "      <td>-0.01</td>\n",
       "      <td>-2.971861</td>\n",
       "      <td>16.446207</td>\n",
       "      <td>-6.954243</td>\n",
       "      <td>21.526035</td>\n",
       "      <td>-1.843251</td>\n",
       "      <td>12.332575</td>\n",
       "      <td>5.454009</td>\n",
       "      <td>7.896286</td>\n",
       "      <td>-1.891930</td>\n",
       "      <td>13.561582</td>\n",
       "      <td>11.255659</td>\n",
       "      <td>11.502228</td>\n",
       "    </tr>\n",
       "    <tr>\n",
       "      <th>1</th>\n",
       "      <td>0</td>\n",
       "      <td>1</td>\n",
       "      <td>1_2.c3d</td>\n",
       "      <td>-0.01</td>\n",
       "      <td>-4.197004</td>\n",
       "      <td>18.906998</td>\n",
       "      <td>-2.941148</td>\n",
       "      <td>16.240780</td>\n",
       "      <td>-1.919205</td>\n",
       "      <td>12.159078</td>\n",
       "      <td>3.317243</td>\n",
       "      <td>13.326383</td>\n",
       "      <td>5.674481</td>\n",
       "      <td>7.909504</td>\n",
       "      <td>11.170057</td>\n",
       "      <td>11.525832</td>\n",
       "    </tr>\n",
       "    <tr>\n",
       "      <th>2</th>\n",
       "      <td>0</td>\n",
       "      <td>1</td>\n",
       "      <td>1_3.c3d</td>\n",
       "      <td>-0.01</td>\n",
       "      <td>-13.361194</td>\n",
       "      <td>6.840955</td>\n",
       "      <td>-0.706938</td>\n",
       "      <td>27.776137</td>\n",
       "      <td>-1.866956</td>\n",
       "      <td>12.068987</td>\n",
       "      <td>-8.009166</td>\n",
       "      <td>-1.036545</td>\n",
       "      <td>20.235576</td>\n",
       "      <td>21.392602</td>\n",
       "      <td>11.073430</td>\n",
       "      <td>11.434387</td>\n",
       "    </tr>\n",
       "    <tr>\n",
       "      <th>3</th>\n",
       "      <td>0</td>\n",
       "      <td>1</td>\n",
       "      <td>1_4.c3d</td>\n",
       "      <td>-0.01</td>\n",
       "      <td>-0.738226</td>\n",
       "      <td>24.138725</td>\n",
       "      <td>-0.721716</td>\n",
       "      <td>24.948791</td>\n",
       "      <td>-2.029150</td>\n",
       "      <td>12.070779</td>\n",
       "      <td>5.741236</td>\n",
       "      <td>16.037985</td>\n",
       "      <td>21.273310</td>\n",
       "      <td>22.318288</td>\n",
       "      <td>11.042868</td>\n",
       "      <td>11.369497</td>\n",
       "    </tr>\n",
       "    <tr>\n",
       "      <th>4</th>\n",
       "      <td>0</td>\n",
       "      <td>1</td>\n",
       "      <td>1_5.c3d</td>\n",
       "      <td>-0.01</td>\n",
       "      <td>-5.945342</td>\n",
       "      <td>15.151989</td>\n",
       "      <td>-2.999868</td>\n",
       "      <td>20.628002</td>\n",
       "      <td>-18.937491</td>\n",
       "      <td>18.483477</td>\n",
       "      <td>1.424356</td>\n",
       "      <td>10.886806</td>\n",
       "      <td>10.780804</td>\n",
       "      <td>12.326305</td>\n",
       "      <td>10.518214</td>\n",
       "      <td>10.967998</td>\n",
       "    </tr>\n",
       "  </tbody>\n",
       "</table>\n",
       "</div>"
      ],
      "text/plain": [
       "  class  patient     file  scale_factor      min_x      max_x     min_y  \\\n",
       "0     0        1  1_1.c3d         -0.01  -2.971861  16.446207 -6.954243   \n",
       "1     0        1  1_2.c3d         -0.01  -4.197004  18.906998 -2.941148   \n",
       "2     0        1  1_3.c3d         -0.01 -13.361194   6.840955 -0.706938   \n",
       "3     0        1  1_4.c3d         -0.01  -0.738226  24.138725 -0.721716   \n",
       "4     0        1  1_5.c3d         -0.01  -5.945342  15.151989 -2.999868   \n",
       "\n",
       "       max_y      min_z      max_z  c7_min_x   c7_max_x   c7_min_y   c7_max_y  \\\n",
       "0  21.526035  -1.843251  12.332575  5.454009   7.896286  -1.891930  13.561582   \n",
       "1  16.240780  -1.919205  12.159078  3.317243  13.326383   5.674481   7.909504   \n",
       "2  27.776137  -1.866956  12.068987 -8.009166  -1.036545  20.235576  21.392602   \n",
       "3  24.948791  -2.029150  12.070779  5.741236  16.037985  21.273310  22.318288   \n",
       "4  20.628002 -18.937491  18.483477  1.424356  10.886806  10.780804  12.326305   \n",
       "\n",
       "    c7_min_z   c7_max_z  \n",
       "0  11.255659  11.502228  \n",
       "1  11.170057  11.525832  \n",
       "2  11.073430  11.434387  \n",
       "3  11.042868  11.369497  \n",
       "4  10.518214  10.967998  "
      ]
     },
     "execution_count": 16,
     "metadata": {},
     "output_type": "execute_result"
    }
   ],
   "source": [
    "# Rescale bounds\n",
    "df_bounds_scaled = df_bounds.copy()\n",
    "df_bounds_scaled.min_x *= abs(df_bounds_scaled.scale_factor)\n",
    "df_bounds_scaled.max_x *= abs(df_bounds_scaled.scale_factor)\n",
    "df_bounds_scaled.min_y *= abs(df_bounds_scaled.scale_factor)\n",
    "df_bounds_scaled.max_y *= abs(df_bounds_scaled.scale_factor)\n",
    "df_bounds_scaled.min_z *= abs(df_bounds_scaled.scale_factor)\n",
    "df_bounds_scaled.max_z *= abs(df_bounds_scaled.scale_factor)\n",
    "df_bounds_scaled.c7_min_x *= abs(df_bounds_scaled.scale_factor)\n",
    "df_bounds_scaled.c7_max_x *= abs(df_bounds_scaled.scale_factor)\n",
    "df_bounds_scaled.c7_min_y *= abs(df_bounds_scaled.scale_factor)\n",
    "df_bounds_scaled.c7_max_y *= abs(df_bounds_scaled.scale_factor)\n",
    "df_bounds_scaled.c7_min_z *= abs(df_bounds_scaled.scale_factor)\n",
    "df_bounds_scaled.c7_max_z *= abs(df_bounds_scaled.scale_factor)\n",
    "df_bounds_scaled.head(5)"
   ]
  },
  {
   "cell_type": "code",
   "execution_count": 17,
   "metadata": {
    "collapsed": false
   },
   "outputs": [
    {
     "name": "stdout",
     "output_type": "stream",
     "text": [
      "x: (-4883.71, 2095.90)\n",
      "y: (-6675.11, 9304.38)\n",
      "z: (-3377.72, 4623.15)\n",
      "c7_x: (-210.21, 261.75)\n",
      "c7_y: (-232.32, 399.23)\n",
      "c7_z: (0.00, 148.71)\n"
     ]
    }
   ],
   "source": [
    "# Global bounds\n",
    "print 'x: (%.2f, %.2f)' % (df_bounds_scaled.min_x.min(), df_bounds_scaled.max_x.max())\n",
    "print 'y: (%.2f, %.2f)' % (df_bounds_scaled.min_y.min(), df_bounds_scaled.max_y.max())\n",
    "print 'z: (%.2f, %.2f)' % (df_bounds_scaled.min_z.min(), df_bounds_scaled.max_z.max())\n",
    "print 'c7_x: (%.2f, %.2f)' % (df_bounds_scaled.c7_min_x.min(), df_bounds_scaled.c7_max_x.max())\n",
    "print 'c7_y: (%.2f, %.2f)' % (df_bounds_scaled.c7_min_y.min(), df_bounds_scaled.c7_max_y.max())\n",
    "print 'c7_z: (%.2f, %.2f)' % (df_bounds_scaled.c7_min_z.min(), df_bounds_scaled.c7_max_z.max())\n",
    "\n",
    "# Bounds of marker C7 are much stabler, the following can be inferred:\n",
    "# Z axis is height (0 is floor level, can't go lower than that)\n",
    "# X axis is short axis (~4,7 m)\n",
    "# Y axis is long axis (~6.4 m)"
   ]
  },
  {
   "cell_type": "code",
   "execution_count": 19,
   "metadata": {
    "collapsed": false,
    "scrolled": true
   },
   "outputs": [
    {
     "data": {
      "image/png": "[encoded data removed]",
      "text/plain": [
       "<matplotlib.figure.Figure at 0x7f17605d1c90>"
      ]
     },
     "metadata": {},
     "output_type": "display_data"
    },
    {
     "data": {
      "image/png": "[encoded data removed]",
      "text/plain": [
       "<matplotlib.figure.Figure at 0x7f17843b5250>"
      ]
     },
     "metadata": {},
     "output_type": "display_data"
    }
   ],
   "source": [
    "df_bounds_scaled['range_x'] = df_bounds_scaled.c7_max_x - df_bounds_scaled.c7_min_x\n",
    "df_bounds_scaled['range_y'] = df_bounds_scaled.c7_max_y - df_bounds_scaled.c7_min_y\n",
    "df_bounds_scaled['range_z'] = df_bounds_scaled.c7_max_z - df_bounds_scaled.c7_min_z\n",
    "df_bounds_scaled.hist('range_x', bins=100)\n",
    "df_bounds_scaled.hist('range_y', bins=100)\n",
    "plt.show()\n",
    "\n",
    "# Ranges are either really small (very high peak at 0) when they are not on movement axis\n",
    "# (lateral movement is little and occurs only for class 1)\n",
    "# or on normal distribution when they are on the movement axis\n",
    "# (mean should be similar to axis length, variance relatively large e.g. 1-2 meters)"
   ]
  },
  {
   "cell_type": "code",
   "execution_count": 20,
   "metadata": {
    "collapsed": false
   },
   "outputs": [
    {
     "data": {
      "text/html": [
       "<div>\n",
       "<table border=\"1\" class=\"dataframe\">\n",
       "  <thead>\n",
       "    <tr style=\"text-align: right;\">\n",
       "      <th></th>\n",
       "      <th>class</th>\n",
       "      <th>patient</th>\n",
       "      <th>file</th>\n",
       "      <th>scale_factor</th>\n",
       "      <th>min_x</th>\n",
       "      <th>max_x</th>\n",
       "      <th>min_y</th>\n",
       "      <th>max_y</th>\n",
       "      <th>min_z</th>\n",
       "      <th>max_z</th>\n",
       "      <th>...</th>\n",
       "      <th>c7_max_x</th>\n",
       "      <th>c7_min_y</th>\n",
       "      <th>c7_max_y</th>\n",
       "      <th>c7_min_z</th>\n",
       "      <th>c7_max_z</th>\n",
       "      <th>range_x</th>\n",
       "      <th>range_y</th>\n",
       "      <th>range_z</th>\n",
       "      <th>range_ratio</th>\n",
       "      <th>main_axis</th>\n",
       "    </tr>\n",
       "  </thead>\n",
       "  <tbody>\n",
       "    <tr>\n",
       "      <th>0</th>\n",
       "      <td>0</td>\n",
       "      <td>1</td>\n",
       "      <td>1_1.c3d</td>\n",
       "      <td>-0.01</td>\n",
       "      <td>-2.971861</td>\n",
       "      <td>16.446207</td>\n",
       "      <td>-6.954243</td>\n",
       "      <td>21.526035</td>\n",
       "      <td>-1.843251</td>\n",
       "      <td>12.332575</td>\n",
       "      <td>...</td>\n",
       "      <td>7.896286</td>\n",
       "      <td>-1.891930</td>\n",
       "      <td>13.561582</td>\n",
       "      <td>11.255659</td>\n",
       "      <td>11.502228</td>\n",
       "      <td>2.442277</td>\n",
       "      <td>15.453512</td>\n",
       "      <td>0.246569</td>\n",
       "      <td>0.158040</td>\n",
       "      <td>y</td>\n",
       "    </tr>\n",
       "    <tr>\n",
       "      <th>1</th>\n",
       "      <td>0</td>\n",
       "      <td>1</td>\n",
       "      <td>1_2.c3d</td>\n",
       "      <td>-0.01</td>\n",
       "      <td>-4.197004</td>\n",
       "      <td>18.906998</td>\n",
       "      <td>-2.941148</td>\n",
       "      <td>16.240780</td>\n",
       "      <td>-1.919205</td>\n",
       "      <td>12.159078</td>\n",
       "      <td>...</td>\n",
       "      <td>13.326383</td>\n",
       "      <td>5.674481</td>\n",
       "      <td>7.909504</td>\n",
       "      <td>11.170057</td>\n",
       "      <td>11.525832</td>\n",
       "      <td>10.009140</td>\n",
       "      <td>2.235023</td>\n",
       "      <td>0.355775</td>\n",
       "      <td>4.478316</td>\n",
       "      <td>x</td>\n",
       "    </tr>\n",
       "    <tr>\n",
       "      <th>2</th>\n",
       "      <td>0</td>\n",
       "      <td>1</td>\n",
       "      <td>1_3.c3d</td>\n",
       "      <td>-0.01</td>\n",
       "      <td>-13.361194</td>\n",
       "      <td>6.840955</td>\n",
       "      <td>-0.706938</td>\n",
       "      <td>27.776137</td>\n",
       "      <td>-1.866956</td>\n",
       "      <td>12.068987</td>\n",
       "      <td>...</td>\n",
       "      <td>-1.036545</td>\n",
       "      <td>20.235576</td>\n",
       "      <td>21.392602</td>\n",
       "      <td>11.073430</td>\n",
       "      <td>11.434387</td>\n",
       "      <td>6.972621</td>\n",
       "      <td>1.157026</td>\n",
       "      <td>0.360957</td>\n",
       "      <td>6.026329</td>\n",
       "      <td>x</td>\n",
       "    </tr>\n",
       "    <tr>\n",
       "      <th>3</th>\n",
       "      <td>0</td>\n",
       "      <td>1</td>\n",
       "      <td>1_4.c3d</td>\n",
       "      <td>-0.01</td>\n",
       "      <td>-0.738226</td>\n",
       "      <td>24.138725</td>\n",
       "      <td>-0.721716</td>\n",
       "      <td>24.948791</td>\n",
       "      <td>-2.029150</td>\n",
       "      <td>12.070779</td>\n",
       "      <td>...</td>\n",
       "      <td>16.037985</td>\n",
       "      <td>21.273310</td>\n",
       "      <td>22.318288</td>\n",
       "      <td>11.042868</td>\n",
       "      <td>11.369497</td>\n",
       "      <td>10.296750</td>\n",
       "      <td>1.044978</td>\n",
       "      <td>0.326628</td>\n",
       "      <td>9.853556</td>\n",
       "      <td>x</td>\n",
       "    </tr>\n",
       "    <tr>\n",
       "      <th>4</th>\n",
       "      <td>0</td>\n",
       "      <td>1</td>\n",
       "      <td>1_5.c3d</td>\n",
       "      <td>-0.01</td>\n",
       "      <td>-5.945342</td>\n",
       "      <td>15.151989</td>\n",
       "      <td>-2.999868</td>\n",
       "      <td>20.628002</td>\n",
       "      <td>-18.937491</td>\n",
       "      <td>18.483477</td>\n",
       "      <td>...</td>\n",
       "      <td>10.886806</td>\n",
       "      <td>10.780804</td>\n",
       "      <td>12.326305</td>\n",
       "      <td>10.518214</td>\n",
       "      <td>10.967998</td>\n",
       "      <td>9.462450</td>\n",
       "      <td>1.545500</td>\n",
       "      <td>0.449784</td>\n",
       "      <td>6.122580</td>\n",
       "      <td>x</td>\n",
       "    </tr>\n",
       "  </tbody>\n",
       "</table>\n",
       "<p>5 rows × 21 columns</p>\n",
       "</div>"
      ],
      "text/plain": [
       "  class  patient     file  scale_factor      min_x      max_x     min_y  \\\n",
       "0     0        1  1_1.c3d         -0.01  -2.971861  16.446207 -6.954243   \n",
       "1     0        1  1_2.c3d         -0.01  -4.197004  18.906998 -2.941148   \n",
       "2     0        1  1_3.c3d         -0.01 -13.361194   6.840955 -0.706938   \n",
       "3     0        1  1_4.c3d         -0.01  -0.738226  24.138725 -0.721716   \n",
       "4     0        1  1_5.c3d         -0.01  -5.945342  15.151989 -2.999868   \n",
       "\n",
       "       max_y      min_z      max_z    ...       c7_max_x   c7_min_y  \\\n",
       "0  21.526035  -1.843251  12.332575    ...       7.896286  -1.891930   \n",
       "1  16.240780  -1.919205  12.159078    ...      13.326383   5.674481   \n",
       "2  27.776137  -1.866956  12.068987    ...      -1.036545  20.235576   \n",
       "3  24.948791  -2.029150  12.070779    ...      16.037985  21.273310   \n",
       "4  20.628002 -18.937491  18.483477    ...      10.886806  10.780804   \n",
       "\n",
       "    c7_max_y   c7_min_z   c7_max_z    range_x    range_y   range_z  \\\n",
       "0  13.561582  11.255659  11.502228   2.442277  15.453512  0.246569   \n",
       "1   7.909504  11.170057  11.525832  10.009140   2.235023  0.355775   \n",
       "2  21.392602  11.073430  11.434387   6.972621   1.157026  0.360957   \n",
       "3  22.318288  11.042868  11.369497  10.296750   1.044978  0.326628   \n",
       "4  12.326305  10.518214  10.967998   9.462450   1.545500  0.449784   \n",
       "\n",
       "   range_ratio  main_axis  \n",
       "0     0.158040          y  \n",
       "1     4.478316          x  \n",
       "2     6.026329          x  \n",
       "3     9.853556          x  \n",
       "4     6.122580          x  \n",
       "\n",
       "[5 rows x 21 columns]"
      ]
     },
     "execution_count": 20,
     "metadata": {},
     "output_type": "execute_result"
    }
   ],
   "source": [
    "# Try to infer direction of the gait\n",
    "df_bounds_scaled['range_ratio'] = df_bounds_scaled.range_x / df_bounds_scaled.range_y\n",
    "df_bounds_scaled['main_axis'] = np.where(df_bounds_scaled.range_ratio > 1, 'x', 'y')\n",
    "\n",
    "df_bounds_scaled.head(5)"
   ]
  },
  {
   "cell_type": "code",
   "execution_count": 21,
   "metadata": {
    "collapsed": false
   },
   "outputs": [
    {
     "name": "stdout",
     "output_type": "stream",
     "text": [
      "13  patients has range_ratio between 0.7 and 1.43 (walked slighly diagonally)\n",
      "8  patients has range_ratio between 0.85 and 1.176 (walked almost diagonally)\n",
      "2  patients has range_ratio between 0.95 and 1.052 (walked diagonally)\n"
     ]
    },
    {
     "data": {
      "text/html": [
       "<div>\n",
       "<table border=\"1\" class=\"dataframe\">\n",
       "  <thead>\n",
       "    <tr style=\"text-align: right;\">\n",
       "      <th></th>\n",
       "      <th>class</th>\n",
       "      <th>range_ratio</th>\n",
       "      <th>main_axis</th>\n",
       "    </tr>\n",
       "  </thead>\n",
       "  <tbody>\n",
       "    <tr>\n",
       "      <th>779</th>\n",
       "      <td>3</td>\n",
       "      <td>0.700894</td>\n",
       "      <td>y</td>\n",
       "    </tr>\n",
       "    <tr>\n",
       "      <th>866</th>\n",
       "      <td>3</td>\n",
       "      <td>0.719363</td>\n",
       "      <td>y</td>\n",
       "    </tr>\n",
       "    <tr>\n",
       "      <th>1028</th>\n",
       "      <td>3</td>\n",
       "      <td>0.753315</td>\n",
       "      <td>y</td>\n",
       "    </tr>\n",
       "    <tr>\n",
       "      <th>382</th>\n",
       "      <td>2</td>\n",
       "      <td>0.757383</td>\n",
       "      <td>y</td>\n",
       "    </tr>\n",
       "    <tr>\n",
       "      <th>294</th>\n",
       "      <td>1</td>\n",
       "      <td>0.797953</td>\n",
       "      <td>y</td>\n",
       "    </tr>\n",
       "    <tr>\n",
       "      <th>778</th>\n",
       "      <td>3</td>\n",
       "      <td>0.854207</td>\n",
       "      <td>y</td>\n",
       "    </tr>\n",
       "    <tr>\n",
       "      <th>871</th>\n",
       "      <td>3</td>\n",
       "      <td>0.871222</td>\n",
       "      <td>y</td>\n",
       "    </tr>\n",
       "    <tr>\n",
       "      <th>89</th>\n",
       "      <td>1</td>\n",
       "      <td>0.893118</td>\n",
       "      <td>y</td>\n",
       "    </tr>\n",
       "    <tr>\n",
       "      <th>780</th>\n",
       "      <td>3</td>\n",
       "      <td>0.910465</td>\n",
       "      <td>y</td>\n",
       "    </tr>\n",
       "    <tr>\n",
       "      <th>872</th>\n",
       "      <td>3</td>\n",
       "      <td>0.913023</td>\n",
       "      <td>y</td>\n",
       "    </tr>\n",
       "    <tr>\n",
       "      <th>873</th>\n",
       "      <td>3</td>\n",
       "      <td>0.964712</td>\n",
       "      <td>y</td>\n",
       "    </tr>\n",
       "    <tr>\n",
       "      <th>874</th>\n",
       "      <td>3</td>\n",
       "      <td>0.983790</td>\n",
       "      <td>y</td>\n",
       "    </tr>\n",
       "    <tr>\n",
       "      <th>295</th>\n",
       "      <td>1</td>\n",
       "      <td>1.108638</td>\n",
       "      <td>x</td>\n",
       "    </tr>\n",
       "  </tbody>\n",
       "</table>\n",
       "</div>"
      ],
      "text/plain": [
       "     class  range_ratio main_axis\n",
       "779      3     0.700894         y\n",
       "866      3     0.719363         y\n",
       "1028     3     0.753315         y\n",
       "382      2     0.757383         y\n",
       "294      1     0.797953         y\n",
       "778      3     0.854207         y\n",
       "871      3     0.871222         y\n",
       "89       1     0.893118         y\n",
       "780      3     0.910465         y\n",
       "872      3     0.913023         y\n",
       "873      3     0.964712         y\n",
       "874      3     0.983790         y\n",
       "295      1     1.108638         x"
      ]
     },
     "execution_count": 21,
     "metadata": {},
     "output_type": "execute_result"
    }
   ],
   "source": [
    "df_uncertain = df_bounds_scaled[(df_bounds_scaled.range_ratio > 0.7) & (df_bounds_scaled.range_ratio < 1.43)]\n",
    "print len(df_uncertain), ' patients has range_ratio between 0.7 and 1.43 (walked slighly diagonally)'\n",
    "\n",
    "df_more_uncertain = df_bounds_scaled[(df_bounds_scaled.range_ratio > 0.85) & (df_bounds_scaled.range_ratio < 1.176)]\n",
    "print len(df_more_uncertain), ' patients has range_ratio between 0.85 and 1.176 (walked almost diagonally)'\n",
    "\n",
    "df_most_uncertain = df_bounds_scaled[(df_bounds_scaled.range_ratio > 0.95) & (df_bounds_scaled.range_ratio < 1.052)]\n",
    "print len(df_most_uncertain), ' patients has range_ratio between 0.95 and 1.052 (walked diagonally)'\n",
    "\n",
    "# It was to be expected that the patient with uncertain movement direction\n",
    "# were exclusively from class 1. Instead, most of them are from class 3\n",
    "df_uncertain[['class', 'range_ratio', 'main_axis']].sort_values('range_ratio')"
   ]
  },
  {
   "cell_type": "code",
   "execution_count": 23,
   "metadata": {
    "collapsed": false
   },
   "outputs": [
    {
     "data": {
      "text/plain": [
       "y    727\n",
       "x    415\n",
       "Name: main_axis, dtype: int64"
      ]
     },
     "execution_count": 23,
     "metadata": {},
     "output_type": "execute_result"
    }
   ],
   "source": [
    "df_bounds_scaled.main_axis.value_counts()"
   ]
  },
  {
   "cell_type": "code",
   "execution_count": null,
   "metadata": {
    "collapsed": true
   },
   "outputs": [],
   "source": []
  }
 ],
 "metadata": {
  "anaconda-cloud": {},
  "kernelspec": {
   "display_name": "Python [default]",
   "language": "python",
   "name": "python2"
  },
  "language_info": {
   "codemirror_mode": {
    "name": "ipython",
    "version": 2
   },
   "file_extension": ".py",
   "mimetype": "text/x-python",
   "name": "python",
   "nbconvert_exporter": "python",
   "pygments_lexer": "ipython2",
   "version": "2.7.12"
  }
 },
 "nbformat": 4,
 "nbformat_minor": 0
}
