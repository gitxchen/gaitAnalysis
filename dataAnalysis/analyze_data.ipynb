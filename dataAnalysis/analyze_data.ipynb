{
 "cells": [
  {
   "cell_type": "code",
   "execution_count": 38,
   "metadata": {
    "collapsed": true
   },
   "outputs": [],
   "source": [
    "import os\n",
    "import os.path as path\n",
    "\n",
    "import numpy as np\n",
    "import pandas as pd\n",
    "import matplotlib.pyplot as plt\n",
    "\n",
    "from utils import anonymize_data, patients_data, get_markers, extract_data\n",
    "\n",
    "SUGGESTED_MARKERS = {\"C7\", \"REP\", \"RUL\", \"RASIS\", \"RPSIS\", \"RCA\", \"RGT\",\n",
    "                     \"RLE\", \"RCA\", \"RFM\", \"RA\", \"LEP\", \"LUL\", \"LASIS\",\n",
    "                     \"LPSIS\", \"LCA\", \"LGT\", \"LLE\", \"LFM\", \"LA\"}"
   ]
  },
  {
   "cell_type": "markdown",
   "metadata": {},
   "source": [
    "## Make data anonymous"
   ]
  },
  {
   "cell_type": "code",
   "execution_count": 3,
   "metadata": {
    "collapsed": false
   },
   "outputs": [],
   "source": [
    "# WARNING: this actually renames the original folders and files, make sure you have a backup of the data.\n",
    "# WARNING: this doesn't make data completely anonymous, as some fields in the c3ds still contains the patients info\n",
    "# This should at least avoid printing the patients name in notebooks output\n",
    "# and make them readable in the repository history.\n",
    "anonymize_data()\n",
    "\n",
    "# TODO: there are some copies in the original files, remove them"
   ]
  },
  {
   "cell_type": "markdown",
   "metadata": {},
   "source": [
    "## Evaluate suggested markers sample coverage"
   ]
  },
  {
   "cell_type": "code",
   "execution_count": 4,
   "metadata": {
    "collapsed": false
   },
   "outputs": [
    {
     "name": "stdout",
     "output_type": "stream",
     "text": [
      "Reading class 0\n",
      "Reading class 1\n",
      "Reading class 2\n",
      "Reading class 3\n",
      "Error reading 114_8.c3d\n",
      "Coverage: 1090 / 1142\n"
     ]
    }
   ],
   "source": [
    "diffs = {}\n",
    "\n",
    "for reader, _, _, _ in patients_data():\n",
    "\n",
    "    markers = get_markers(reader)\n",
    "    diff = len(SUGGESTED_MARKERS.difference(markers))\n",
    "\n",
    "    if diff not in diffs:\n",
    "        diffs[diff] = 1\n",
    "    else:\n",
    "        diffs[diff] += 1\n",
    "\n",
    "diffs = pd.Series(diffs)\n",
    "print 'Coverage: %d / %d' % (diffs[0], diffs.sum())"
   ]
  },
  {
   "cell_type": "markdown",
   "metadata": {},
   "source": [
    "## Find optimal markers subset (TODO)"
   ]
  },
  {
   "cell_type": "code",
   "execution_count": 5,
   "metadata": {
    "collapsed": false
   },
   "outputs": [
    {
     "name": "stdout",
     "output_type": "stream",
     "text": [
      "Reading class 0\n",
      "Reading class 1\n",
      "Reading class 2\n",
      "Reading class 3\n",
      "Error reading 114_8.c3d\n"
     ]
    }
   ],
   "source": [
    "rows = []\n",
    "\n",
    "for reader, _, _, _ in patients_data():\n",
    "\n",
    "    markers = get_markers(reader)\n",
    "    rows.append({marker: 1 for marker in markers})\n",
    "    \n",
    "df = pd.DataFrame(rows).fillna(0)"
   ]
  },
  {
   "cell_type": "code",
   "execution_count": 8,
   "metadata": {
    "collapsed": false
   },
   "outputs": [
    {
     "data": {
      "text/plain": [
       "1071"
      ]
     },
     "execution_count": 8,
     "metadata": {},
     "output_type": "execute_result"
    }
   ],
   "source": [
    "marker_freqs = df.sum()\n",
    "\n",
    "# Use coverage from suggested markers as threshold\n",
    "best_cols = marker_freqs[marker_freqs >= 1090].index\n",
    "n_best_cols = len(best_cols)\n",
    "\n",
    "filtered_df = df[best_cols]\n",
    "\n",
    "markers_counts = filtered_df.sum(axis=1)\n",
    "len(markers_counts[markers_counts >= len(best_cols)])\n",
    "\n",
    "filtered_df = filtered_df[markers_counts >= len(best_cols)]\n",
    "\n",
    "len(filtered_df)"
   ]
  },
  {
   "cell_type": "markdown",
   "metadata": {},
   "source": [
    "## Count bad frames, by marker"
   ]
  },
  {
   "cell_type": "code",
   "execution_count": 6,
   "metadata": {
    "collapsed": false
   },
   "outputs": [
    {
     "name": "stdout",
     "output_type": "stream",
     "text": [
      "Reading class 0\n",
      "Reading class 1\n",
      "Reading class 2\n",
      "Reading class 3\n",
      "Error reading 114_8.c3d\n"
     ]
    }
   ],
   "source": [
    "bad_markers_map = {}\n",
    "\n",
    "for reader, _, _, _ in patients_data():\n",
    "\n",
    "    markers = get_markers(reader)\n",
    "\n",
    "    for frame, points, analog in reader.read_frames():\n",
    "\n",
    "        bad_markers = np.where(points[:, 4] == -1)[0]\n",
    "        for marker in bad_markers:\n",
    "            if marker >= 255:\n",
    "                # unexpected marker\n",
    "                continue\n",
    "                \n",
    "            if markers[marker] not in bad_markers_map:\n",
    "                bad_markers_map[markers[marker]] = 1\n",
    "            else:\n",
    "                bad_markers_map[markers[marker]] += 1"
   ]
  },
  {
   "cell_type": "code",
   "execution_count": 9,
   "metadata": {
    "collapsed": false
   },
   "outputs": [
    {
     "name": "stdout",
     "output_type": "stream",
     "text": [
      "RFM       5.190853\n",
      "LASIS     9.657498\n",
      "RGT       7.941541\n",
      "RUL       7.911552\n",
      "LA        4.293700\n",
      "LFM       6.787852\n",
      "C7       10.283528\n",
      "REP       6.453562\n",
      "RASIS     9.879326\n",
      "RPSIS     7.370896\n",
      "LEP       4.616983\n",
      "RLE       7.050176\n",
      "LLE       6.441021\n",
      "LCA       6.411609\n",
      "LPSIS     7.480923\n",
      "LUL       5.828365\n",
      "RCA       6.260334\n",
      "LGT       7.590788\n",
      "RA        3.967169\n",
      "dtype: float64\n"
     ]
    }
   ],
   "source": [
    "bad_markers_counts = pd.Series(bad_markers_map)\n",
    "markers_counts = df.sum()\n",
    "\n",
    "freq_markers_counts = markers_counts[markers_counts > 1000]\n",
    "fred_bad_markers_counts = bad_markers_counts[freq_markers_counts.index].fillna(0)\n",
    "summary_bad_markers = (fred_bad_markers_counts / freq_markers_counts).sort_values()\n",
    "\n",
    "print summary_bad_markers[SUGGESTED_MARKERS]\n",
    "\n",
    "# Bad frames seem to be distributed equally, no need to discard any marker"
   ]
  },
  {
   "cell_type": "markdown",
   "metadata": {},
   "source": [
    "## Analyze graphs (TODO)"
   ]
  },
  {
   "cell_type": "code",
   "execution_count": 10,
   "metadata": {
    "collapsed": false
   },
   "outputs": [
    {
     "name": "stdout",
     "output_type": "stream",
     "text": [
      "Reading class 0\n",
      "Extracted 1807240 rows\n"
     ]
    }
   ],
   "source": [
    "data = extract_data('0', '1')\n",
    "print 'Extracted', len(data), 'rows'\n",
    "df = pd.DataFrame(data, columns=['class', 'patient', 'file', 'frame', 'marker', 'x', 'y', 'z', 'bad'])"
   ]
  },
  {
   "cell_type": "code",
   "execution_count": 11,
   "metadata": {
    "collapsed": false
   },
   "outputs": [
    {
     "data": {
      "image/png": "[encoded data removed]",
      "text/plain": [
       "<matplotlib.figure.Figure at 0x7fae1c48bd50>"
      ]
     },
     "metadata": {},
     "output_type": "display_data"
    }
   ],
   "source": [
    "df[(df.marker == 'LFEO') & (df.file == '1_1.c3d')]\\\n",
    "    .sort_values('frame').plot('frame', ['x', 'y', 'z'], subplots=True, sharey=False)\n",
    "plt.show()"
   ]
  },
  {
   "cell_type": "markdown",
   "metadata": {},
   "source": [
    "## Position boundaries"
   ]
  },
  {
   "cell_type": "code",
   "execution_count": 23,
   "metadata": {
    "collapsed": false
   },
   "outputs": [
    {
     "name": "stdout",
     "output_type": "stream",
     "text": [
      "Reading class 0\n",
      "Reading class 1\n",
      "Reading class 2\n",
      "Reading class 3\n",
      "Error reading 114_8.c3d\n"
     ]
    }
   ],
   "source": [
    "rows = []\n",
    "\n",
    "patients_iterator = patients_data()\n",
    "for reader, class_folder, patient_folder, patient_file in patients_iterator:\n",
    "    markers = get_markers(reader)\n",
    "    \n",
    "    # (marker, x|y|z, min|max)\n",
    "    bounds = np.zeros((len(markers), 3, 2))\n",
    "    bounds[:, :, 0] = 10e10\n",
    "    bounds[:, :, 1] = -10e10\n",
    "\n",
    "    for frame, points, analog in reader.read_frames():\n",
    "        \n",
    "        # The 255 limit is to prevent unexpected markers in 59_1.c3d and 59_2.c3d\n",
    "        bounds[:, :, 0] = np.fmin(bounds[:, :, 0], points[:255, 0:3])\n",
    "        bounds[:, :, 1] = np.fmax(bounds[:, :, 1], points[:255, 0:3])\n",
    "        \n",
    "        '''for marker, point in enumerate(points):\n",
    "            if marker >= 255:\n",
    "                # skip unexpected markers\n",
    "                continue\n",
    "            \n",
    "            bounds[marker][0][0] = min(point[0], bounds[marker][0][0])\n",
    "            bounds[marker][1][0] = min(point[1], bounds[marker][1][0])\n",
    "            bounds[marker][2][0] = min(point[2], bounds[marker][2][0])\n",
    "            \n",
    "            bounds[marker][0][1] = max(point[0], bounds[marker][0][1])\n",
    "            bounds[marker][1][1] = max(point[1], bounds[marker][1][1])\n",
    "            bounds[marker][2][1] = max(point[2], bounds[marker][2][1])'''\n",
    "\n",
    "    all_min = np.min(bounds[:, :, 0], axis=0)\n",
    "    all_max = np.max(bounds[:, :, 1], axis=0)\n",
    "\n",
    "    rows.append([\n",
    "        class_folder,\n",
    "        patient_folder,\n",
    "        patient_file,\n",
    "        #bounds\n",
    "        all_min[0],\n",
    "        all_max[0],\n",
    "        all_min[1],\n",
    "        all_max[1],\n",
    "        all_min[2],\n",
    "        all_max[2]\n",
    "    ])\n",
    "    \n",
    "# Generate DataFrame with summary data\n",
    "df_bounds = pd.DataFrame(rows, columns=[\n",
    "    'class', 'patient', 'file', \n",
    "    'min_x', 'max_x',\n",
    "    'min_y', 'max_y',\n",
    "    'min_z', 'max_z'\n",
    "])"
   ]
  },
  {
   "cell_type": "code",
   "execution_count": 35,
   "metadata": {
    "collapsed": false
   },
   "outputs": [
    {
     "data": {
      "text/html": [
       "<div>\n",
       "<table border=\"1\" class=\"dataframe\">\n",
       "  <thead>\n",
       "    <tr style=\"text-align: right;\">\n",
       "      <th></th>\n",
       "      <th>class</th>\n",
       "      <th>patient</th>\n",
       "      <th>file</th>\n",
       "      <th>min_x</th>\n",
       "      <th>max_x</th>\n",
       "      <th>min_y</th>\n",
       "      <th>max_y</th>\n",
       "      <th>min_z</th>\n",
       "      <th>max_z</th>\n",
       "    </tr>\n",
       "  </thead>\n",
       "  <tbody>\n",
       "    <tr>\n",
       "      <th>0</th>\n",
       "      <td>0</td>\n",
       "      <td>1</td>\n",
       "      <td>1_1.c3d</td>\n",
       "      <td>-297.186127</td>\n",
       "      <td>1644.620728</td>\n",
       "      <td>-695.424316</td>\n",
       "      <td>2152.603516</td>\n",
       "      <td>-184.325119</td>\n",
       "      <td>1233.257568</td>\n",
       "    </tr>\n",
       "    <tr>\n",
       "      <th>1</th>\n",
       "      <td>0</td>\n",
       "      <td>1</td>\n",
       "      <td>1_2.c3d</td>\n",
       "      <td>-419.700409</td>\n",
       "      <td>1890.699829</td>\n",
       "      <td>-294.114838</td>\n",
       "      <td>1624.078003</td>\n",
       "      <td>-191.920547</td>\n",
       "      <td>1215.907837</td>\n",
       "    </tr>\n",
       "    <tr>\n",
       "      <th>2</th>\n",
       "      <td>0</td>\n",
       "      <td>1</td>\n",
       "      <td>1_3.c3d</td>\n",
       "      <td>-1336.119385</td>\n",
       "      <td>684.095520</td>\n",
       "      <td>-70.693817</td>\n",
       "      <td>2777.613770</td>\n",
       "      <td>-186.695572</td>\n",
       "      <td>1206.898682</td>\n",
       "    </tr>\n",
       "    <tr>\n",
       "      <th>3</th>\n",
       "      <td>0</td>\n",
       "      <td>1</td>\n",
       "      <td>1_4.c3d</td>\n",
       "      <td>-73.822647</td>\n",
       "      <td>2413.872559</td>\n",
       "      <td>-72.171555</td>\n",
       "      <td>2494.879150</td>\n",
       "      <td>-202.915039</td>\n",
       "      <td>1207.077881</td>\n",
       "    </tr>\n",
       "    <tr>\n",
       "      <th>4</th>\n",
       "      <td>0</td>\n",
       "      <td>1</td>\n",
       "      <td>1_5.c3d</td>\n",
       "      <td>-594.534241</td>\n",
       "      <td>1515.198975</td>\n",
       "      <td>-299.986816</td>\n",
       "      <td>2062.800293</td>\n",
       "      <td>-1893.749146</td>\n",
       "      <td>1848.347778</td>\n",
       "    </tr>\n",
       "  </tbody>\n",
       "</table>\n",
       "</div>"
      ],
      "text/plain": [
       "  class  patient     file        min_x        max_x       min_y        max_y  \\\n",
       "0     0        1  1_1.c3d  -297.186127  1644.620728 -695.424316  2152.603516   \n",
       "1     0        1  1_2.c3d  -419.700409  1890.699829 -294.114838  1624.078003   \n",
       "2     0        1  1_3.c3d -1336.119385   684.095520  -70.693817  2777.613770   \n",
       "3     0        1  1_4.c3d   -73.822647  2413.872559  -72.171555  2494.879150   \n",
       "4     0        1  1_5.c3d  -594.534241  1515.198975 -299.986816  2062.800293   \n",
       "\n",
       "         min_z        max_z  \n",
       "0  -184.325119  1233.257568  \n",
       "1  -191.920547  1215.907837  \n",
       "2  -186.695572  1206.898682  \n",
       "3  -202.915039  1207.077881  \n",
       "4 -1893.749146  1848.347778  "
      ]
     },
     "execution_count": 35,
     "metadata": {},
     "output_type": "execute_result"
    }
   ],
   "source": [
    "df_bounds.patient = pd.to_numeric(df_bounds.patient)\n",
    "df_bounds.head(5)"
   ]
  },
  {
   "cell_type": "code",
   "execution_count": 37,
   "metadata": {
    "collapsed": false
   },
   "outputs": [
    {
     "name": "stdout",
     "output_type": "stream",
     "text": [
      "x: (-48837.12, 20959.00)\n",
      "y: (-66751.12, 93043.75)\n",
      "z: (-33777.16, 46231.46)\n"
     ]
    }
   ],
   "source": [
    "print 'x: (%.2f, %.2f)' % (df_bounds.min_x.min(), df_bounds.max_x.max())\n",
    "print 'y: (%.2f, %.2f)' % (df_bounds.min_y.min(), df_bounds.max_y.max())\n",
    "print 'z: (%.2f, %.2f)' % (df_bounds.min_z.min(), df_bounds.max_z.max())"
   ]
  },
  {
   "cell_type": "code",
   "execution_count": null,
   "metadata": {
    "collapsed": true
   },
   "outputs": [],
   "source": []
  }
 ],
 "metadata": {
  "anaconda-cloud": {},
  "kernelspec": {
   "display_name": "Python [default]",
   "language": "python",
   "name": "python2"
  },
  "language_info": {
   "codemirror_mode": {
    "name": "ipython",
    "version": 2
   },
   "file_extension": ".py",
   "mimetype": "text/x-python",
   "name": "python",
   "nbconvert_exporter": "python",
   "pygments_lexer": "ipython2",
   "version": "2.7.12"
  }
 },
 "nbformat": 4,
 "nbformat_minor": 0
}
